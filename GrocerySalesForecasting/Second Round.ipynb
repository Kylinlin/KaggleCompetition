{
 "cells": [
  {
   "cell_type": "code",
   "execution_count": 1,
   "metadata": {
    "collapsed": true
   },
   "outputs": [],
   "source": [
    "import pandas as pd\n",
    "import numpy as np\n",
    "import xgboost as xgb"
   ]
  },
  {
   "cell_type": "markdown",
   "metadata": {},
   "source": [
    "## Reading training data and test data"
   ]
  },
  {
   "cell_type": "code",
   "execution_count": 2,
   "metadata": {
    "collapsed": true
   },
   "outputs": [],
   "source": [
    "df_train = pd.read_csv('database/train.csv', low_memory=False, parse_dates=['date'],\n",
    "                   date_parser = lambda dt:pd.to_datetime(dt, format='%Y-%m-%d'),skiprows=range(1, 124035460),\n",
    "                   converters={'unit_sales': lambda u: float(u) if float(u) > 0 else 0})\n",
    "df_test = pd.read_csv('database/test.csv',low_memory=False, parse_dates=['date'], \n",
    "                   date_parser=(lambda dt: pd.to_datetime(dt, format='%Y-%m-%d')))"
   ]
  },
  {
   "cell_type": "code",
   "execution_count": 3,
   "metadata": {},
   "outputs": [
    {
     "data": {
      "text/plain": [
       "1461581"
      ]
     },
     "execution_count": 3,
     "metadata": {},
     "output_type": "execute_result"
    }
   ],
   "source": [
    "len(df_train)"
   ]
  },
  {
   "cell_type": "code",
   "execution_count": 4,
   "metadata": {
    "collapsed": true
   },
   "outputs": [],
   "source": [
    "df_train['Set'] = 1\n",
    "df_test['Set'] = 0"
   ]
  },
  {
   "cell_type": "code",
   "execution_count": 5,
   "metadata": {
    "collapsed": true
   },
   "outputs": [],
   "source": [
    "frames = [df_train, df_test]\n",
    "df = pd.concat(frames)"
   ]
  },
  {
   "cell_type": "code",
   "execution_count": 6,
   "metadata": {
    "collapsed": true
   },
   "outputs": [],
   "source": [
    "features_y = ['SalesLog']"
   ]
  },
  {
   "cell_type": "code",
   "execution_count": 7,
   "metadata": {},
   "outputs": [
    {
     "data": {
      "text/plain": [
       "count    1.461581e+06\n",
       "mean     7.830799e+00\n",
       "std      2.160031e+01\n",
       "min      0.000000e+00\n",
       "25%      2.000000e+00\n",
       "50%      4.000000e+00\n",
       "75%      8.000000e+00\n",
       "max      4.908000e+03\n",
       "Name: unit_sales, dtype: float64"
      ]
     },
     "execution_count": 7,
     "metadata": {},
     "output_type": "execute_result"
    }
   ],
   "source": [
    "#df['unit_sales'].describe()"
   ]
  },
  {
   "cell_type": "code",
   "execution_count": 8,
   "metadata": {
    "collapsed": true
   },
   "outputs": [],
   "source": [
    "df.loc[df['Set']==1, 'SalesLog'] = np.log1p(df.loc[df['Set'] == 1]['unit_sales'])"
   ]
  },
  {
   "cell_type": "code",
   "execution_count": 9,
   "metadata": {
    "collapsed": true
   },
   "outputs": [],
   "source": [
    "var_name = 'date'\n",
    "df[var_name + 'Day'] = pd.Index(df[var_name]).day\n",
    "df[var_name + 'Week'] = pd.Index(df[var_name]).week\n",
    "df[var_name + 'Month'] = pd.Index(df[var_name]).month\n",
    "df[var_name + 'Year'] = pd.Index(df[var_name]).year\n",
    "df[var_name + 'DayOfYear'] = pd.Index(df[var_name]).dayofyear\n",
    "df[var_name + 'DayOfWeek'] = pd.Index(df[var_name]).dayofweek\n",
    "\n",
    "df[var_name + 'Day'] = df[var_name + 'Day'].fillna(0)\n",
    "df[var_name + 'Week'] = df[var_name + 'Week'].fillna(0)\n",
    "df[var_name + 'Month'] = df[var_name + 'Month'].fillna(0)\n",
    "df[var_name + 'Year'] = df[var_name + 'Year'].fillna(0)\n",
    "df[var_name + 'DayOfYear'] = df[var_name + 'DayOfYear'].fillna(0)\n",
    "df[var_name + 'DayOfWeek'] = df[var_name + 'DayOfWeek'].fillna(0)"
   ]
  },
  {
   "cell_type": "code",
   "execution_count": 10,
   "metadata": {
    "collapsed": true
   },
   "outputs": [],
   "source": [
    "features_x = []"
   ]
  },
  {
   "cell_type": "code",
   "execution_count": 11,
   "metadata": {
    "collapsed": true
   },
   "outputs": [],
   "source": [
    "features_x.append(var_name + 'Day')\n",
    "features_x.append(var_name + 'Week')\n",
    "features_x.append(var_name + 'Month')\n",
    "features_x.append(var_name + 'Year')\n",
    "features_x.append(var_name + 'DayOfYear')\n",
    "features_x.append(var_name + 'DayOfWeek')"
   ]
  },
  {
   "cell_type": "code",
   "execution_count": 12,
   "metadata": {},
   "outputs": [
    {
     "data": {
      "text/plain": [
       "['dateDay',\n",
       " 'dateWeek',\n",
       " 'dateMonth',\n",
       " 'dateYear',\n",
       " 'dateDayOfYear',\n",
       " 'dateDayOfWeek']"
      ]
     },
     "execution_count": 12,
     "metadata": {},
     "output_type": "execute_result"
    }
   ],
   "source": [
    "features_x"
   ]
  },
  {
   "cell_type": "code",
   "execution_count": 13,
   "metadata": {
    "collapsed": true
   },
   "outputs": [],
   "source": [
    "df['DateInt'] = df['date'].astype(np.int64)"
   ]
  },
  {
   "cell_type": "code",
   "execution_count": 14,
   "metadata": {},
   "outputs": [],
   "source": [
    "#df.head()"
   ]
  },
  {
   "cell_type": "markdown",
   "metadata": {},
   "source": [
    "## Setting seed"
   ]
  },
  {
   "cell_type": "code",
   "execution_count": 15,
   "metadata": {
    "collapsed": true
   },
   "outputs": [],
   "source": [
    "seed = 42"
   ]
  },
  {
   "cell_type": "markdown",
   "metadata": {},
   "source": [
    "## Reading oil data, and fill the empty data to the next day"
   ]
  },
  {
   "cell_type": "code",
   "execution_count": 16,
   "metadata": {
    "collapsed": true
   },
   "outputs": [],
   "source": [
    "df_oil = pd.read_csv('database/oil.csv',parse_dates=['date'],\n",
    "                     date_parser=(lambda dt: pd.to_datetime(dt, format='%Y-%m-%d')))"
   ]
  },
  {
   "cell_type": "code",
   "execution_count": 17,
   "metadata": {},
   "outputs": [],
   "source": [
    "#df_oil.head()"
   ]
  },
  {
   "cell_type": "code",
   "execution_count": 18,
   "metadata": {
    "collapsed": true
   },
   "outputs": [],
   "source": [
    "def FillOilNan(window_size, lenoil, oilprice):\n",
    "    mean_list = []\n",
    "    for everyday in null_day:\n",
    "        backward_index = everyday - window_size\n",
    "        forward_index = everyday + window_size\n",
    "        price_list = []\n",
    "        if backward_index < 0:\n",
    "            backward_index = 0\n",
    "        if forward_index > lenoil:\n",
    "            forward_index = lenoil - 1\n",
    "        neighbor_data = oilprice[backward_index : forward_index]\n",
    "        for each in neighbor_data:\n",
    "            if each > 0:\n",
    "                price_list.append(each)\n",
    "        mean_list.append(np.mean(price_list))\n",
    "    \n",
    "    return mean_list    "
   ]
  },
  {
   "cell_type": "code",
   "execution_count": 19,
   "metadata": {},
   "outputs": [
    {
     "name": "stderr",
     "output_type": "stream",
     "text": [
      "C:\\ProgramData\\Anaconda3\\lib\\site-packages\\ipykernel_launcher.py:4: SettingWithCopyWarning: \n",
      "A value is trying to be set on a copy of a slice from a DataFrame\n",
      "\n",
      "See the caveats in the documentation: http://pandas.pydata.org/pandas-docs/stable/indexing.html#indexing-view-versus-copy\n",
      "  after removing the cwd from sys.path.\n"
     ]
    }
   ],
   "source": [
    "null_day = np.array(df_oil.loc[df_oil['dcoilwtico'].isnull()].index)\n",
    "price = np.array(df_oil['dcoilwtico'])\n",
    "mean_price = FillOilNan(2,len(df_oil),price)\n",
    "df_oil['dcoilwtico'][np.isnan(df_oil['dcoilwtico'])] = mean_price"
   ]
  },
  {
   "cell_type": "markdown",
   "metadata": {},
   "source": [
    "### merge the oil data to the frame"
   ]
  },
  {
   "cell_type": "code",
   "execution_count": 20,
   "metadata": {
    "collapsed": true
   },
   "outputs": [],
   "source": [
    "df = pd.merge(df, df_oil, how='left', on=['date'])"
   ]
  },
  {
   "cell_type": "code",
   "execution_count": 21,
   "metadata": {},
   "outputs": [],
   "source": [
    "#df.tail()"
   ]
  },
  {
   "cell_type": "code",
   "execution_count": 22,
   "metadata": {
    "collapsed": true
   },
   "outputs": [],
   "source": [
    "features_x.append('dcoilwtico')"
   ]
  },
  {
   "cell_type": "code",
   "execution_count": 23,
   "metadata": {},
   "outputs": [
    {
     "data": {
      "text/plain": [
       "['dateDay',\n",
       " 'dateWeek',\n",
       " 'dateMonth',\n",
       " 'dateYear',\n",
       " 'dateDayOfYear',\n",
       " 'dateDayOfWeek',\n",
       " 'dcoilwtico']"
      ]
     },
     "execution_count": 23,
     "metadata": {},
     "output_type": "execute_result"
    }
   ],
   "source": [
    "features_x"
   ]
  },
  {
   "cell_type": "markdown",
   "metadata": {},
   "source": [
    "## Reading stores' data"
   ]
  },
  {
   "cell_type": "code",
   "execution_count": 24,
   "metadata": {
    "collapsed": true
   },
   "outputs": [],
   "source": [
    "df_store = pd.read_csv('database/stores.csv')"
   ]
  },
  {
   "cell_type": "code",
   "execution_count": 25,
   "metadata": {},
   "outputs": [],
   "source": [
    "#df_store.head()"
   ]
  },
  {
   "cell_type": "code",
   "execution_count": 26,
   "metadata": {
    "collapsed": true
   },
   "outputs": [],
   "source": [
    "type_dummies = pd.get_dummies(df_store['type'], prefix='type')\n",
    "city_dummies = pd.get_dummies(df_store['city'],prefix='city')\n",
    "state_dummies = pd.get_dummies(df_store['state'], prefix='state')"
   ]
  },
  {
   "cell_type": "code",
   "execution_count": 27,
   "metadata": {},
   "outputs": [
    {
     "data": {
      "text/html": [
       "<div>\n",
       "<style>\n",
       "    .dataframe thead tr:only-child th {\n",
       "        text-align: right;\n",
       "    }\n",
       "\n",
       "    .dataframe thead th {\n",
       "        text-align: left;\n",
       "    }\n",
       "\n",
       "    .dataframe tbody tr th {\n",
       "        vertical-align: top;\n",
       "    }\n",
       "</style>\n",
       "<table border=\"1\" class=\"dataframe\">\n",
       "  <thead>\n",
       "    <tr style=\"text-align: right;\">\n",
       "      <th></th>\n",
       "      <th>store_nbr</th>\n",
       "      <th>city</th>\n",
       "      <th>state</th>\n",
       "      <th>type</th>\n",
       "      <th>cluster</th>\n",
       "      <th>type_A</th>\n",
       "      <th>type_B</th>\n",
       "      <th>type_C</th>\n",
       "      <th>type_D</th>\n",
       "      <th>type_E</th>\n",
       "      <th>...</th>\n",
       "      <th>state_Guayas</th>\n",
       "      <th>state_Imbabura</th>\n",
       "      <th>state_Loja</th>\n",
       "      <th>state_Los Rios</th>\n",
       "      <th>state_Manabi</th>\n",
       "      <th>state_Pastaza</th>\n",
       "      <th>state_Pichincha</th>\n",
       "      <th>state_Santa Elena</th>\n",
       "      <th>state_Santo Domingo de los Tsachilas</th>\n",
       "      <th>state_Tungurahua</th>\n",
       "    </tr>\n",
       "  </thead>\n",
       "  <tbody>\n",
       "    <tr>\n",
       "      <th>0</th>\n",
       "      <td>1</td>\n",
       "      <td>Quito</td>\n",
       "      <td>Pichincha</td>\n",
       "      <td>D</td>\n",
       "      <td>13</td>\n",
       "      <td>0</td>\n",
       "      <td>0</td>\n",
       "      <td>0</td>\n",
       "      <td>1</td>\n",
       "      <td>0</td>\n",
       "      <td>...</td>\n",
       "      <td>0</td>\n",
       "      <td>0</td>\n",
       "      <td>0</td>\n",
       "      <td>0</td>\n",
       "      <td>0</td>\n",
       "      <td>0</td>\n",
       "      <td>1</td>\n",
       "      <td>0</td>\n",
       "      <td>0</td>\n",
       "      <td>0</td>\n",
       "    </tr>\n",
       "    <tr>\n",
       "      <th>1</th>\n",
       "      <td>2</td>\n",
       "      <td>Quito</td>\n",
       "      <td>Pichincha</td>\n",
       "      <td>D</td>\n",
       "      <td>13</td>\n",
       "      <td>0</td>\n",
       "      <td>0</td>\n",
       "      <td>0</td>\n",
       "      <td>1</td>\n",
       "      <td>0</td>\n",
       "      <td>...</td>\n",
       "      <td>0</td>\n",
       "      <td>0</td>\n",
       "      <td>0</td>\n",
       "      <td>0</td>\n",
       "      <td>0</td>\n",
       "      <td>0</td>\n",
       "      <td>1</td>\n",
       "      <td>0</td>\n",
       "      <td>0</td>\n",
       "      <td>0</td>\n",
       "    </tr>\n",
       "    <tr>\n",
       "      <th>2</th>\n",
       "      <td>3</td>\n",
       "      <td>Quito</td>\n",
       "      <td>Pichincha</td>\n",
       "      <td>D</td>\n",
       "      <td>8</td>\n",
       "      <td>0</td>\n",
       "      <td>0</td>\n",
       "      <td>0</td>\n",
       "      <td>1</td>\n",
       "      <td>0</td>\n",
       "      <td>...</td>\n",
       "      <td>0</td>\n",
       "      <td>0</td>\n",
       "      <td>0</td>\n",
       "      <td>0</td>\n",
       "      <td>0</td>\n",
       "      <td>0</td>\n",
       "      <td>1</td>\n",
       "      <td>0</td>\n",
       "      <td>0</td>\n",
       "      <td>0</td>\n",
       "    </tr>\n",
       "    <tr>\n",
       "      <th>3</th>\n",
       "      <td>4</td>\n",
       "      <td>Quito</td>\n",
       "      <td>Pichincha</td>\n",
       "      <td>D</td>\n",
       "      <td>9</td>\n",
       "      <td>0</td>\n",
       "      <td>0</td>\n",
       "      <td>0</td>\n",
       "      <td>1</td>\n",
       "      <td>0</td>\n",
       "      <td>...</td>\n",
       "      <td>0</td>\n",
       "      <td>0</td>\n",
       "      <td>0</td>\n",
       "      <td>0</td>\n",
       "      <td>0</td>\n",
       "      <td>0</td>\n",
       "      <td>1</td>\n",
       "      <td>0</td>\n",
       "      <td>0</td>\n",
       "      <td>0</td>\n",
       "    </tr>\n",
       "    <tr>\n",
       "      <th>4</th>\n",
       "      <td>5</td>\n",
       "      <td>Santo Domingo</td>\n",
       "      <td>Santo Domingo de los Tsachilas</td>\n",
       "      <td>D</td>\n",
       "      <td>4</td>\n",
       "      <td>0</td>\n",
       "      <td>0</td>\n",
       "      <td>0</td>\n",
       "      <td>1</td>\n",
       "      <td>0</td>\n",
       "      <td>...</td>\n",
       "      <td>0</td>\n",
       "      <td>0</td>\n",
       "      <td>0</td>\n",
       "      <td>0</td>\n",
       "      <td>0</td>\n",
       "      <td>0</td>\n",
       "      <td>0</td>\n",
       "      <td>0</td>\n",
       "      <td>1</td>\n",
       "      <td>0</td>\n",
       "    </tr>\n",
       "  </tbody>\n",
       "</table>\n",
       "<p>5 rows × 48 columns</p>\n",
       "</div>"
      ],
      "text/plain": [
       "   store_nbr           city                           state type  cluster  \\\n",
       "0          1          Quito                       Pichincha    D       13   \n",
       "1          2          Quito                       Pichincha    D       13   \n",
       "2          3          Quito                       Pichincha    D        8   \n",
       "3          4          Quito                       Pichincha    D        9   \n",
       "4          5  Santo Domingo  Santo Domingo de los Tsachilas    D        4   \n",
       "\n",
       "   type_A  type_B  type_C  type_D  type_E        ...         state_Guayas  \\\n",
       "0       0       0       0       1       0        ...                    0   \n",
       "1       0       0       0       1       0        ...                    0   \n",
       "2       0       0       0       1       0        ...                    0   \n",
       "3       0       0       0       1       0        ...                    0   \n",
       "4       0       0       0       1       0        ...                    0   \n",
       "\n",
       "   state_Imbabura  state_Loja  state_Los Rios  state_Manabi  state_Pastaza  \\\n",
       "0               0           0               0             0              0   \n",
       "1               0           0               0             0              0   \n",
       "2               0           0               0             0              0   \n",
       "3               0           0               0             0              0   \n",
       "4               0           0               0             0              0   \n",
       "\n",
       "   state_Pichincha  state_Santa Elena  state_Santo Domingo de los Tsachilas  \\\n",
       "0                1                  0                                     0   \n",
       "1                1                  0                                     0   \n",
       "2                1                  0                                     0   \n",
       "3                1                  0                                     0   \n",
       "4                0                  0                                     1   \n",
       "\n",
       "   state_Tungurahua  \n",
       "0                 0  \n",
       "1                 0  \n",
       "2                 0  \n",
       "3                 0  \n",
       "4                 0  \n",
       "\n",
       "[5 rows x 48 columns]"
      ]
     },
     "execution_count": 27,
     "metadata": {},
     "output_type": "execute_result"
    }
   ],
   "source": [
    "df_store = df_store.join(type_dummies)\n",
    "df_store = df_store.join(city_dummies)\n",
    "df_store = df_store.join(state_dummies)\n"
   ]
  },
  {
   "cell_type": "code",
   "execution_count": null,
   "metadata": {
    "collapsed": true
   },
   "outputs": [],
   "source": [
    "#df_store.head()"
   ]
  },
  {
   "cell_type": "code",
   "execution_count": 29,
   "metadata": {
    "collapsed": true
   },
   "outputs": [],
   "source": [
    "type_features = list(type_dummies.columns)\n",
    "city_features = list(city_dummies.columns)\n",
    "state_features = list(state_dummies.columns)"
   ]
  },
  {
   "cell_type": "code",
   "execution_count": 30,
   "metadata": {
    "collapsed": true
   },
   "outputs": [],
   "source": [
    "feature_store = []\n",
    "feature_store.extend(type_features)\n",
    "feature_store.extend(city_features)\n",
    "feature_store.extend(state_features)\n",
    "feature_store.append('cluster')\n",
    "feature_store.append('store_nbr')\n"
   ]
  },
  {
   "cell_type": "code",
   "execution_count": 31,
   "metadata": {
    "collapsed": true
   },
   "outputs": [],
   "source": [
    "features_x.extend(feature_store)"
   ]
  },
  {
   "cell_type": "code",
   "execution_count": 32,
   "metadata": {
    "collapsed": true,
    "scrolled": true
   },
   "outputs": [],
   "source": [
    "df = pd.merge(df, df_store[feature_store], how='left',on=['store_nbr'])"
   ]
  },
  {
   "cell_type": "code",
   "execution_count": 33,
   "metadata": {
    "scrolled": true
   },
   "outputs": [
    {
     "data": {
      "text/plain": [
       "52"
      ]
     },
     "execution_count": 33,
     "metadata": {},
     "output_type": "execute_result"
    }
   ],
   "source": [
    "len(features_x)"
   ]
  },
  {
   "cell_type": "code",
   "execution_count": 34,
   "metadata": {},
   "outputs": [],
   "source": [
    "#df.head()"
   ]
  },
  {
   "cell_type": "markdown",
   "metadata": {},
   "source": [
    "## Reading items' data"
   ]
  },
  {
   "cell_type": "code",
   "execution_count": 35,
   "metadata": {},
   "outputs": [],
   "source": [
    "df_item = pd.read_csv('database/items.csv')\n",
    "#df_item.head()"
   ]
  },
  {
   "cell_type": "code",
   "execution_count": 36,
   "metadata": {
    "collapsed": true
   },
   "outputs": [],
   "source": [
    "df_item['weight'] = np.array(df_item['perishable']) * 0.25 + 1.0"
   ]
  },
  {
   "cell_type": "code",
   "execution_count": 37,
   "metadata": {
    "collapsed": true
   },
   "outputs": [],
   "source": [
    "family_dummies = pd.get_dummies(df_item['family'], prefix='family')\n",
    "df_item = df_item.join(family_dummies)"
   ]
  },
  {
   "cell_type": "code",
   "execution_count": 38,
   "metadata": {
    "collapsed": true,
    "scrolled": true
   },
   "outputs": [],
   "source": [
    "family_features = family_dummies.columns\n",
    "feature_item = []\n",
    "feature_item.extend(family_features)\n",
    "feature_item.append('item_nbr')\n",
    "feature_item.append('class')\n",
    "feature_item.append('perishable')\n",
    "feature_item.append('weight')\n",
    "features_x.extend(feature_item)\n"
   ]
  },
  {
   "cell_type": "code",
   "execution_count": 39,
   "metadata": {
    "scrolled": true
   },
   "outputs": [
    {
     "data": {
      "text/plain": [
       "89"
      ]
     },
     "execution_count": 39,
     "metadata": {},
     "output_type": "execute_result"
    }
   ],
   "source": [
    "len(features_x)"
   ]
  },
  {
   "cell_type": "code",
   "execution_count": 40,
   "metadata": {
    "collapsed": true
   },
   "outputs": [],
   "source": [
    "df = pd.merge(df, df_item[feature_item], how='left', on=['item_nbr'])"
   ]
  },
  {
   "cell_type": "markdown",
   "metadata": {},
   "source": [
    "## Reading transactions data"
   ]
  },
  {
   "cell_type": "code",
   "execution_count": 41,
   "metadata": {
    "collapsed": true
   },
   "outputs": [],
   "source": [
    "df_transaction = pd.read_csv('database/transactions.csv', parse_dates=['date'],\n",
    "                             date_parser= lambda dt: pd.to_datetime(dt, format='%Y-%m-%d'))"
   ]
  },
  {
   "cell_type": "code",
   "execution_count": 42,
   "metadata": {},
   "outputs": [],
   "source": [
    "#df_transaction.head()"
   ]
  },
  {
   "cell_type": "code",
   "execution_count": 43,
   "metadata": {
    "collapsed": true
   },
   "outputs": [],
   "source": [
    "df = pd.merge(df, df_transaction, how='left', on=['date', 'store_nbr'])"
   ]
  },
  {
   "cell_type": "code",
   "execution_count": 44,
   "metadata": {
    "collapsed": true
   },
   "outputs": [],
   "source": [
    "feature_transaction = ['transactions']\n",
    "features_x.extend(feature_transaction)"
   ]
  },
  {
   "cell_type": "code",
   "execution_count": 45,
   "metadata": {},
   "outputs": [
    {
     "data": {
      "text/plain": [
       "90"
      ]
     },
     "execution_count": 45,
     "metadata": {},
     "output_type": "execute_result"
    }
   ],
   "source": [
    "len(features_x)"
   ]
  },
  {
   "cell_type": "markdown",
   "metadata": {},
   "source": [
    "## Reading holiday_events"
   ]
  },
  {
   "cell_type": "code",
   "execution_count": 46,
   "metadata": {
    "collapsed": true
   },
   "outputs": [],
   "source": [
    "df_holiday = pd.read_csv('database/holidays_events.csv', parse_dates=['date'], \n",
    "                         date_parser= lambda dt: pd.to_datetime(dt, format='%Y-%m-%d'))"
   ]
  },
  {
   "cell_type": "code",
   "execution_count": 47,
   "metadata": {},
   "outputs": [],
   "source": [
    "#df_holiday.head()"
   ]
  },
  {
   "cell_type": "code",
   "execution_count": 48,
   "metadata": {
    "collapsed": true
   },
   "outputs": [],
   "source": [
    "type_dummies = pd.get_dummies(df_holiday['type'], prefix='type')\n",
    "locale_dummies = pd.get_dummies(df_holiday['locale'], prefix='locale')\n",
    "locale_name_dummies = pd.get_dummies(df_holiday['locale_name'], prefix='locale_name')\n",
    "transferred_dummies = pd.get_dummies(df_holiday['transferred'], prefix='transferred')"
   ]
  },
  {
   "cell_type": "code",
   "execution_count": 49,
   "metadata": {
    "collapsed": true
   },
   "outputs": [],
   "source": [
    "type_features = list(type_dummies.columns)\n",
    "locale_features = list(locale_dummies.columns)\n",
    "locale_name_features = list(locale_name_dummies.columns)\n",
    "transferred_features = list(transferred_dummies.columns)\n",
    "feature_holiday = []\n",
    "feature_holiday.extend(type_features)\n",
    "feature_holiday.extend(locale_features)\n",
    "feature_holiday.extend(locale_name_features)\n",
    "feature_holiday.extend(transferred_features)\n",
    "feature_holiday.append('date')\n",
    "features_x.extend(feature_holiday)"
   ]
  },
  {
   "cell_type": "code",
   "execution_count": 50,
   "metadata": {
    "collapsed": true
   },
   "outputs": [],
   "source": [
    "df_holiday = df_holiday.join(type_dummies)\n",
    "df_holiday = df_holiday.join(locale_dummies)\n",
    "df_holiday = df_holiday.join(locale_name_dummies)\n",
    "df_holiday = df_holiday.join(transferred_dummies)\n",
    "df = pd.merge(df, df_holiday[feature_holiday], how='left', on=['date'])"
   ]
  },
  {
   "cell_type": "code",
   "execution_count": 51,
   "metadata": {},
   "outputs": [
    {
     "data": {
      "text/plain": [
       "126"
      ]
     },
     "execution_count": 51,
     "metadata": {},
     "output_type": "execute_result"
    }
   ],
   "source": [
    "len(features_x)"
   ]
  },
  {
   "cell_type": "markdown",
   "metadata": {},
   "source": [
    "## 数据清洗"
   ]
  },
  {
   "cell_type": "code",
   "execution_count": 52,
   "metadata": {},
   "outputs": [],
   "source": [
    "#features_x"
   ]
  },
  {
   "cell_type": "code",
   "execution_count": 53,
   "metadata": {
    "collapsed": true
   },
   "outputs": [],
   "source": [
    "df['onpromotion'] = df['onpromotion'].map({False:0,True:1}).astype(int)\n",
    "features_x.append('onpromotion')"
   ]
  },
  {
   "cell_type": "code",
   "execution_count": 54,
   "metadata": {},
   "outputs": [],
   "source": [
    "#df.head()"
   ]
  },
  {
   "cell_type": "code",
   "execution_count": 57,
   "metadata": {},
   "outputs": [],
   "source": [
    "df = df.fillna(0)"
   ]
  },
  {
   "cell_type": "code",
   "execution_count": 58,
   "metadata": {},
   "outputs": [
    {
     "data": {
      "text/html": [
       "<div>\n",
       "<style>\n",
       "    .dataframe thead tr:only-child th {\n",
       "        text-align: right;\n",
       "    }\n",
       "\n",
       "    .dataframe thead th {\n",
       "        text-align: left;\n",
       "    }\n",
       "\n",
       "    .dataframe tbody tr th {\n",
       "        vertical-align: top;\n",
       "    }\n",
       "</style>\n",
       "<table border=\"1\" class=\"dataframe\">\n",
       "  <thead>\n",
       "    <tr style=\"text-align: right;\">\n",
       "      <th></th>\n",
       "      <th>Set</th>\n",
       "      <th>date</th>\n",
       "      <th>id</th>\n",
       "      <th>item_nbr</th>\n",
       "      <th>onpromotion</th>\n",
       "      <th>store_nbr</th>\n",
       "      <th>unit_sales</th>\n",
       "      <th>SalesLog</th>\n",
       "      <th>dateDay</th>\n",
       "      <th>dateWeek</th>\n",
       "      <th>...</th>\n",
       "      <th>locale_name_Puyo</th>\n",
       "      <th>locale_name_Quevedo</th>\n",
       "      <th>locale_name_Quito</th>\n",
       "      <th>locale_name_Riobamba</th>\n",
       "      <th>locale_name_Salinas</th>\n",
       "      <th>locale_name_Santa Elena</th>\n",
       "      <th>locale_name_Santo Domingo</th>\n",
       "      <th>locale_name_Santo Domingo de los Tsachilas</th>\n",
       "      <th>transferred_False</th>\n",
       "      <th>transferred_True</th>\n",
       "    </tr>\n",
       "  </thead>\n",
       "  <tbody>\n",
       "    <tr>\n",
       "      <th>0</th>\n",
       "      <td>1</td>\n",
       "      <td>2017-08-02</td>\n",
       "      <td>124035459</td>\n",
       "      <td>96995</td>\n",
       "      <td>0</td>\n",
       "      <td>1</td>\n",
       "      <td>1.0</td>\n",
       "      <td>0.693147</td>\n",
       "      <td>2</td>\n",
       "      <td>31</td>\n",
       "      <td>...</td>\n",
       "      <td>0.0</td>\n",
       "      <td>0.0</td>\n",
       "      <td>0.0</td>\n",
       "      <td>0.0</td>\n",
       "      <td>0.0</td>\n",
       "      <td>0.0</td>\n",
       "      <td>0.0</td>\n",
       "      <td>0.0</td>\n",
       "      <td>0.0</td>\n",
       "      <td>0.0</td>\n",
       "    </tr>\n",
       "    <tr>\n",
       "      <th>1</th>\n",
       "      <td>1</td>\n",
       "      <td>2017-08-02</td>\n",
       "      <td>124035460</td>\n",
       "      <td>103520</td>\n",
       "      <td>0</td>\n",
       "      <td>1</td>\n",
       "      <td>1.0</td>\n",
       "      <td>0.693147</td>\n",
       "      <td>2</td>\n",
       "      <td>31</td>\n",
       "      <td>...</td>\n",
       "      <td>0.0</td>\n",
       "      <td>0.0</td>\n",
       "      <td>0.0</td>\n",
       "      <td>0.0</td>\n",
       "      <td>0.0</td>\n",
       "      <td>0.0</td>\n",
       "      <td>0.0</td>\n",
       "      <td>0.0</td>\n",
       "      <td>0.0</td>\n",
       "      <td>0.0</td>\n",
       "    </tr>\n",
       "    <tr>\n",
       "      <th>2</th>\n",
       "      <td>1</td>\n",
       "      <td>2017-08-02</td>\n",
       "      <td>124035461</td>\n",
       "      <td>103665</td>\n",
       "      <td>0</td>\n",
       "      <td>1</td>\n",
       "      <td>2.0</td>\n",
       "      <td>1.098612</td>\n",
       "      <td>2</td>\n",
       "      <td>31</td>\n",
       "      <td>...</td>\n",
       "      <td>0.0</td>\n",
       "      <td>0.0</td>\n",
       "      <td>0.0</td>\n",
       "      <td>0.0</td>\n",
       "      <td>0.0</td>\n",
       "      <td>0.0</td>\n",
       "      <td>0.0</td>\n",
       "      <td>0.0</td>\n",
       "      <td>0.0</td>\n",
       "      <td>0.0</td>\n",
       "    </tr>\n",
       "    <tr>\n",
       "      <th>3</th>\n",
       "      <td>1</td>\n",
       "      <td>2017-08-02</td>\n",
       "      <td>124035462</td>\n",
       "      <td>105574</td>\n",
       "      <td>0</td>\n",
       "      <td>1</td>\n",
       "      <td>8.0</td>\n",
       "      <td>2.197225</td>\n",
       "      <td>2</td>\n",
       "      <td>31</td>\n",
       "      <td>...</td>\n",
       "      <td>0.0</td>\n",
       "      <td>0.0</td>\n",
       "      <td>0.0</td>\n",
       "      <td>0.0</td>\n",
       "      <td>0.0</td>\n",
       "      <td>0.0</td>\n",
       "      <td>0.0</td>\n",
       "      <td>0.0</td>\n",
       "      <td>0.0</td>\n",
       "      <td>0.0</td>\n",
       "    </tr>\n",
       "    <tr>\n",
       "      <th>4</th>\n",
       "      <td>1</td>\n",
       "      <td>2017-08-02</td>\n",
       "      <td>124035463</td>\n",
       "      <td>105575</td>\n",
       "      <td>0</td>\n",
       "      <td>1</td>\n",
       "      <td>8.0</td>\n",
       "      <td>2.197225</td>\n",
       "      <td>2</td>\n",
       "      <td>31</td>\n",
       "      <td>...</td>\n",
       "      <td>0.0</td>\n",
       "      <td>0.0</td>\n",
       "      <td>0.0</td>\n",
       "      <td>0.0</td>\n",
       "      <td>0.0</td>\n",
       "      <td>0.0</td>\n",
       "      <td>0.0</td>\n",
       "      <td>0.0</td>\n",
       "      <td>0.0</td>\n",
       "      <td>0.0</td>\n",
       "    </tr>\n",
       "  </tbody>\n",
       "</table>\n",
       "<p>5 rows × 132 columns</p>\n",
       "</div>"
      ],
      "text/plain": [
       "   Set       date         id  item_nbr  onpromotion  store_nbr  unit_sales  \\\n",
       "0    1 2017-08-02  124035459     96995            0          1         1.0   \n",
       "1    1 2017-08-02  124035460    103520            0          1         1.0   \n",
       "2    1 2017-08-02  124035461    103665            0          1         2.0   \n",
       "3    1 2017-08-02  124035462    105574            0          1         8.0   \n",
       "4    1 2017-08-02  124035463    105575            0          1         8.0   \n",
       "\n",
       "   SalesLog  dateDay  dateWeek        ...         locale_name_Puyo  \\\n",
       "0  0.693147        2        31        ...                      0.0   \n",
       "1  0.693147        2        31        ...                      0.0   \n",
       "2  1.098612        2        31        ...                      0.0   \n",
       "3  2.197225        2        31        ...                      0.0   \n",
       "4  2.197225        2        31        ...                      0.0   \n",
       "\n",
       "   locale_name_Quevedo  locale_name_Quito  locale_name_Riobamba  \\\n",
       "0                  0.0                0.0                   0.0   \n",
       "1                  0.0                0.0                   0.0   \n",
       "2                  0.0                0.0                   0.0   \n",
       "3                  0.0                0.0                   0.0   \n",
       "4                  0.0                0.0                   0.0   \n",
       "\n",
       "   locale_name_Salinas  locale_name_Santa Elena  locale_name_Santo Domingo  \\\n",
       "0                  0.0                      0.0                        0.0   \n",
       "1                  0.0                      0.0                        0.0   \n",
       "2                  0.0                      0.0                        0.0   \n",
       "3                  0.0                      0.0                        0.0   \n",
       "4                  0.0                      0.0                        0.0   \n",
       "\n",
       "   locale_name_Santo Domingo de los Tsachilas  transferred_False  \\\n",
       "0                                         0.0                0.0   \n",
       "1                                         0.0                0.0   \n",
       "2                                         0.0                0.0   \n",
       "3                                         0.0                0.0   \n",
       "4                                         0.0                0.0   \n",
       "\n",
       "   transferred_True  \n",
       "0               0.0  \n",
       "1               0.0  \n",
       "2               0.0  \n",
       "3               0.0  \n",
       "4               0.0  \n",
       "\n",
       "[5 rows x 132 columns]"
      ]
     },
     "execution_count": 58,
     "metadata": {},
     "output_type": "execute_result"
    }
   ],
   "source": [
    "#df.head()"
   ]
  },
  {
   "cell_type": "code",
   "execution_count": 59,
   "metadata": {},
   "outputs": [
    {
     "data": {
      "text/html": [
       "<div>\n",
       "<style>\n",
       "    .dataframe thead tr:only-child th {\n",
       "        text-align: right;\n",
       "    }\n",
       "\n",
       "    .dataframe thead th {\n",
       "        text-align: left;\n",
       "    }\n",
       "\n",
       "    .dataframe tbody tr th {\n",
       "        vertical-align: top;\n",
       "    }\n",
       "</style>\n",
       "<table border=\"1\" class=\"dataframe\">\n",
       "  <thead>\n",
       "    <tr style=\"text-align: right;\">\n",
       "      <th></th>\n",
       "      <th>Set</th>\n",
       "      <th>date</th>\n",
       "      <th>id</th>\n",
       "      <th>item_nbr</th>\n",
       "      <th>onpromotion</th>\n",
       "      <th>store_nbr</th>\n",
       "      <th>unit_sales</th>\n",
       "      <th>SalesLog</th>\n",
       "      <th>dateDay</th>\n",
       "      <th>dateWeek</th>\n",
       "      <th>...</th>\n",
       "      <th>locale_name_Puyo</th>\n",
       "      <th>locale_name_Quevedo</th>\n",
       "      <th>locale_name_Quito</th>\n",
       "      <th>locale_name_Riobamba</th>\n",
       "      <th>locale_name_Salinas</th>\n",
       "      <th>locale_name_Santa Elena</th>\n",
       "      <th>locale_name_Santo Domingo</th>\n",
       "      <th>locale_name_Santo Domingo de los Tsachilas</th>\n",
       "      <th>transferred_False</th>\n",
       "      <th>transferred_True</th>\n",
       "    </tr>\n",
       "  </thead>\n",
       "  <tbody>\n",
       "    <tr>\n",
       "      <th>4832040</th>\n",
       "      <td>0</td>\n",
       "      <td>2017-08-31</td>\n",
       "      <td>128867499</td>\n",
       "      <td>2132163</td>\n",
       "      <td>0</td>\n",
       "      <td>54</td>\n",
       "      <td>0.0</td>\n",
       "      <td>0.0</td>\n",
       "      <td>31</td>\n",
       "      <td>35</td>\n",
       "      <td>...</td>\n",
       "      <td>0.0</td>\n",
       "      <td>0.0</td>\n",
       "      <td>0.0</td>\n",
       "      <td>0.0</td>\n",
       "      <td>0.0</td>\n",
       "      <td>0.0</td>\n",
       "      <td>0.0</td>\n",
       "      <td>0.0</td>\n",
       "      <td>0.0</td>\n",
       "      <td>0.0</td>\n",
       "    </tr>\n",
       "    <tr>\n",
       "      <th>4832041</th>\n",
       "      <td>0</td>\n",
       "      <td>2017-08-31</td>\n",
       "      <td>128867500</td>\n",
       "      <td>2132318</td>\n",
       "      <td>0</td>\n",
       "      <td>54</td>\n",
       "      <td>0.0</td>\n",
       "      <td>0.0</td>\n",
       "      <td>31</td>\n",
       "      <td>35</td>\n",
       "      <td>...</td>\n",
       "      <td>0.0</td>\n",
       "      <td>0.0</td>\n",
       "      <td>0.0</td>\n",
       "      <td>0.0</td>\n",
       "      <td>0.0</td>\n",
       "      <td>0.0</td>\n",
       "      <td>0.0</td>\n",
       "      <td>0.0</td>\n",
       "      <td>0.0</td>\n",
       "      <td>0.0</td>\n",
       "    </tr>\n",
       "    <tr>\n",
       "      <th>4832042</th>\n",
       "      <td>0</td>\n",
       "      <td>2017-08-31</td>\n",
       "      <td>128867501</td>\n",
       "      <td>2132945</td>\n",
       "      <td>0</td>\n",
       "      <td>54</td>\n",
       "      <td>0.0</td>\n",
       "      <td>0.0</td>\n",
       "      <td>31</td>\n",
       "      <td>35</td>\n",
       "      <td>...</td>\n",
       "      <td>0.0</td>\n",
       "      <td>0.0</td>\n",
       "      <td>0.0</td>\n",
       "      <td>0.0</td>\n",
       "      <td>0.0</td>\n",
       "      <td>0.0</td>\n",
       "      <td>0.0</td>\n",
       "      <td>0.0</td>\n",
       "      <td>0.0</td>\n",
       "      <td>0.0</td>\n",
       "    </tr>\n",
       "    <tr>\n",
       "      <th>4832043</th>\n",
       "      <td>0</td>\n",
       "      <td>2017-08-31</td>\n",
       "      <td>128867502</td>\n",
       "      <td>2132957</td>\n",
       "      <td>0</td>\n",
       "      <td>54</td>\n",
       "      <td>0.0</td>\n",
       "      <td>0.0</td>\n",
       "      <td>31</td>\n",
       "      <td>35</td>\n",
       "      <td>...</td>\n",
       "      <td>0.0</td>\n",
       "      <td>0.0</td>\n",
       "      <td>0.0</td>\n",
       "      <td>0.0</td>\n",
       "      <td>0.0</td>\n",
       "      <td>0.0</td>\n",
       "      <td>0.0</td>\n",
       "      <td>0.0</td>\n",
       "      <td>0.0</td>\n",
       "      <td>0.0</td>\n",
       "    </tr>\n",
       "    <tr>\n",
       "      <th>4832044</th>\n",
       "      <td>0</td>\n",
       "      <td>2017-08-31</td>\n",
       "      <td>128867503</td>\n",
       "      <td>2134244</td>\n",
       "      <td>0</td>\n",
       "      <td>54</td>\n",
       "      <td>0.0</td>\n",
       "      <td>0.0</td>\n",
       "      <td>31</td>\n",
       "      <td>35</td>\n",
       "      <td>...</td>\n",
       "      <td>0.0</td>\n",
       "      <td>0.0</td>\n",
       "      <td>0.0</td>\n",
       "      <td>0.0</td>\n",
       "      <td>0.0</td>\n",
       "      <td>0.0</td>\n",
       "      <td>0.0</td>\n",
       "      <td>0.0</td>\n",
       "      <td>0.0</td>\n",
       "      <td>0.0</td>\n",
       "    </tr>\n",
       "  </tbody>\n",
       "</table>\n",
       "<p>5 rows × 132 columns</p>\n",
       "</div>"
      ],
      "text/plain": [
       "         Set       date         id  item_nbr  onpromotion  store_nbr  \\\n",
       "4832040    0 2017-08-31  128867499   2132163            0         54   \n",
       "4832041    0 2017-08-31  128867500   2132318            0         54   \n",
       "4832042    0 2017-08-31  128867501   2132945            0         54   \n",
       "4832043    0 2017-08-31  128867502   2132957            0         54   \n",
       "4832044    0 2017-08-31  128867503   2134244            0         54   \n",
       "\n",
       "         unit_sales  SalesLog  dateDay  dateWeek        ...         \\\n",
       "4832040         0.0       0.0       31        35        ...          \n",
       "4832041         0.0       0.0       31        35        ...          \n",
       "4832042         0.0       0.0       31        35        ...          \n",
       "4832043         0.0       0.0       31        35        ...          \n",
       "4832044         0.0       0.0       31        35        ...          \n",
       "\n",
       "         locale_name_Puyo  locale_name_Quevedo  locale_name_Quito  \\\n",
       "4832040               0.0                  0.0                0.0   \n",
       "4832041               0.0                  0.0                0.0   \n",
       "4832042               0.0                  0.0                0.0   \n",
       "4832043               0.0                  0.0                0.0   \n",
       "4832044               0.0                  0.0                0.0   \n",
       "\n",
       "         locale_name_Riobamba  locale_name_Salinas  locale_name_Santa Elena  \\\n",
       "4832040                   0.0                  0.0                      0.0   \n",
       "4832041                   0.0                  0.0                      0.0   \n",
       "4832042                   0.0                  0.0                      0.0   \n",
       "4832043                   0.0                  0.0                      0.0   \n",
       "4832044                   0.0                  0.0                      0.0   \n",
       "\n",
       "         locale_name_Santo Domingo  \\\n",
       "4832040                        0.0   \n",
       "4832041                        0.0   \n",
       "4832042                        0.0   \n",
       "4832043                        0.0   \n",
       "4832044                        0.0   \n",
       "\n",
       "         locale_name_Santo Domingo de los Tsachilas  transferred_False  \\\n",
       "4832040                                         0.0                0.0   \n",
       "4832041                                         0.0                0.0   \n",
       "4832042                                         0.0                0.0   \n",
       "4832043                                         0.0                0.0   \n",
       "4832044                                         0.0                0.0   \n",
       "\n",
       "         transferred_True  \n",
       "4832040               0.0  \n",
       "4832041               0.0  \n",
       "4832042               0.0  \n",
       "4832043               0.0  \n",
       "4832044               0.0  \n",
       "\n",
       "[5 rows x 132 columns]"
      ]
     },
     "execution_count": 59,
     "metadata": {},
     "output_type": "execute_result"
    }
   ],
   "source": [
    "#df.tail()"
   ]
  },
  {
   "cell_type": "markdown",
   "metadata": {},
   "source": [
    "## Split and train"
   ]
  },
  {
   "cell_type": "code",
   "execution_count": 60,
   "metadata": {},
   "outputs": [
    {
     "name": "stderr",
     "output_type": "stream",
     "text": [
      "C:\\ProgramData\\Anaconda3\\lib\\site-packages\\sklearn\\cross_validation.py:41: DeprecationWarning: This module was deprecated in version 0.18 in favor of the model_selection module into which all the refactored classes and functions are moved. Also note that the interface of the new CV iterators are different from that of this module. This module will be removed in 0.20.\n",
      "  \"This module will be removed in 0.20.\", DeprecationWarning)\n"
     ]
    }
   ],
   "source": [
    "from sklearn.cross_validation import train_test_split"
   ]
  },
  {
   "cell_type": "code",
   "execution_count": 61,
   "metadata": {
    "collapsed": true
   },
   "outputs": [],
   "source": [
    "X_train, X_test, y_train, y_test = train_test_split(df.loc[df['Set'] == 1][features_x], \n",
    "                                                    df.loc[df['Set'] == 1][features_y], \n",
    "                                                   test_size = 0.15, random_state = seed)"
   ]
  },
  {
   "cell_type": "code",
   "execution_count": 62,
   "metadata": {
    "collapsed": true
   },
   "outputs": [],
   "source": [
    "class NWRMSLE:\n",
    "    def set_weights(self, weights):\n",
    "        self.weights = weights\n",
    "\n",
    "    def _NWRMSLE(self, a, p, w):\n",
    "        a = np.array(a)\n",
    "        a[a < 0.0]=0.0\n",
    "        p = np.array(p)\n",
    "        p[p < 0.0]=0.0\n",
    "        w = np.array(w)\n",
    "        weighted_errors = np.dot(np.square(np.log1p(p) - np.log1p(a)), np.transpose(w))\n",
    "        weights_sum = np.sum(w)\n",
    "        return math.sqrt(weighted_errors/weights_sum)\n",
    "\n",
    "    def NWRMSLE_xgb(self, preds, dtrain):\n",
    "        labels = dtrain.get_label()\n",
    "        NWRMSLE_score = self._NWRMSLE(labels, preds, self.weights)\n",
    "        return [('NWRMSLE', NWRMSLE_score)]"
   ]
  },
  {
   "cell_type": "code",
   "execution_count": 63,
   "metadata": {
    "collapsed": true
   },
   "outputs": [],
   "source": [
    "X_test_weight = X_test['weight']\n",
    "eval_metric = NWRMSLE()\n",
    "eval_metric.set_weights(X_test_weight)"
   ]
  },
  {
   "cell_type": "code",
   "execution_count": 66,
   "metadata": {},
   "outputs": [
    {
     "name": "stdout",
     "output_type": "stream",
     "text": [
      "<class 'pandas.core.frame.DataFrame'>\n",
      "Int64Index: 4832045 entries, 0 to 4832044\n",
      "Columns: 132 entries, Set to transferred_True\n",
      "dtypes: datetime64[ns](1), float64(40), int32(1), int64(14), uint8(76)\n",
      "memory usage: 2.4 GB\n"
     ]
    }
   ],
   "source": [
    "df.info()"
   ]
  },
  {
   "cell_type": "code",
   "execution_count": 68,
   "metadata": {},
   "outputs": [],
   "source": [
    "#del X_train['weight']\n",
    "#del X_test['weight']\n",
    "del X_train['date']\n",
    "del X_test['date']"
   ]
  },
  {
   "cell_type": "code",
   "execution_count": 69,
   "metadata": {},
   "outputs": [],
   "source": [
    "dtrain = xgb.DMatrix(X_train, y_train)\n",
    "dtest = xgb.DMatrix(X_test, y_test)"
   ]
  },
  {
   "cell_type": "code",
   "execution_count": 70,
   "metadata": {
    "collapsed": true
   },
   "outputs": [],
   "source": [
    "num_round = 20000\n",
    "evallist = [(dtest, 'test')]\n",
    "\n",
    "param = {'bst:max_depth':20,\n",
    "         'bst:eta':0.01,\n",
    "         'subsample':0.8,\n",
    "         'colsample_bytree':0.7,\n",
    "         'silent':1,\n",
    "         'objective':'reg:linear',\n",
    "         'nthread':6,\n",
    "         'eval_metric':'rmse',\n",
    "         'seed':seed}\n",
    "plst = param.items()"
   ]
  },
  {
   "cell_type": "code",
   "execution_count": 72,
   "metadata": {},
   "outputs": [
    {
     "name": "stdout",
     "output_type": "stream",
     "text": [
      "[0]\ttest-rmse:1.16656\ttest-NWRMSLE:0.435898\n",
      "Multiple eval metrics have been passed: 'test-NWRMSLE' will be used for early stopping.\n",
      "\n",
      "Will train until test-NWRMSLE hasn't improved in 250 rounds.\n",
      "[250]\ttest-rmse:0.603967\ttest-NWRMSLE:0.227899\n",
      "[500]\ttest-rmse:0.569342\ttest-NWRMSLE:0.217017\n",
      "[750]\ttest-rmse:0.552082\ttest-NWRMSLE:0.211533\n",
      "[1000]\ttest-rmse:0.542695\ttest-NWRMSLE:0.208596\n",
      "[1250]\ttest-rmse:0.536565\ttest-NWRMSLE:0.206705\n",
      "[1500]\ttest-rmse:0.531418\ttest-NWRMSLE:0.205104\n",
      "[1750]\ttest-rmse:0.528018\ttest-NWRMSLE:0.204073\n",
      "[2000]\ttest-rmse:0.524972\ttest-NWRMSLE:0.203153\n",
      "[2250]\ttest-rmse:0.522461\ttest-NWRMSLE:0.202363\n",
      "[2500]\ttest-rmse:0.520422\ttest-NWRMSLE:0.201779\n",
      "[2750]\ttest-rmse:0.518716\ttest-NWRMSLE:0.201309\n",
      "[3000]\ttest-rmse:0.517069\ttest-NWRMSLE:0.200818\n",
      "[3250]\ttest-rmse:0.516145\ttest-NWRMSLE:0.200554\n",
      "[3500]\ttest-rmse:0.515147\ttest-NWRMSLE:0.200288\n",
      "[3750]\ttest-rmse:0.514196\ttest-NWRMSLE:0.200008\n",
      "[4000]\ttest-rmse:0.513361\ttest-NWRMSLE:0.199795\n",
      "[4250]\ttest-rmse:0.51267\ttest-NWRMSLE:0.199614\n",
      "[4500]\ttest-rmse:0.512104\ttest-NWRMSLE:0.199477\n",
      "[4750]\ttest-rmse:0.511679\ttest-NWRMSLE:0.199395\n",
      "[5000]\ttest-rmse:0.511401\ttest-NWRMSLE:0.199333\n",
      "[5250]\ttest-rmse:0.510961\ttest-NWRMSLE:0.199223\n",
      "[5500]\ttest-rmse:0.510637\ttest-NWRMSLE:0.199151\n",
      "[5750]\ttest-rmse:0.510454\ttest-NWRMSLE:0.199128\n",
      "[6000]\ttest-rmse:0.51036\ttest-NWRMSLE:0.199111\n",
      "Stopping. Best iteration:\n",
      "[5910]\ttest-rmse:0.510361\ttest-NWRMSLE:0.199104\n",
      "\n"
     ]
    }
   ],
   "source": [
    "import math\n",
    "bst = xgb.train(plst, dtrain, num_round, evallist, feval=eval_metric.NWRMSLE_xgb, verbose_eval=250, early_stopping_rounds=250)"
   ]
  },
  {
   "cell_type": "code",
   "execution_count": 84,
   "metadata": {
    "collapsed": true
   },
   "outputs": [],
   "source": [
    "import pylab\n",
    "import csv\n",
    "import datetime\n",
    "import math\n",
    "import re\n",
    "import time\n",
    "import random\n",
    "import os\n",
    "np.set_printoptions(precision=4, threshold=10000, linewidth=100, edgeitems=999, suppress=True)\n",
    "\n",
    "pd.set_option('display.max_columns', None)\n",
    "pd.set_option('display.max_rows', None)\n",
    "pd.set_option('display.width', 100)\n",
    "pd.set_option('expand_frame_repr', False)\n",
    "pd.set_option('precision', 6)\n",
    "%matplotlib inline"
   ]
  },
  {
   "cell_type": "code",
   "execution_count": 85,
   "metadata": {},
   "outputs": [
    {
     "name": "stderr",
     "output_type": "stream",
     "text": [
      "Exception ignored in: <bound method DMatrix.__del__ of <xgboost.core.DMatrix object at 0x000000000C384828>>\n",
      "Traceback (most recent call last):\n",
      "  File \"C:\\ProgramData\\Anaconda3\\lib\\site-packages\\xgboost-0.6-py3.6.egg\\xgboost\\core.py\", line 366, in __del__\n",
      "    if self.handle is not None:\n",
      "AttributeError: 'DMatrix' object has no attribute 'handle'\n"
     ]
    },
    {
     "data": {
      "text/plain": [
       "<matplotlib.axes._subplots.AxesSubplot at 0x1aaeb908>"
      ]
     },
     "execution_count": 85,
     "metadata": {},
     "output_type": "execute_result"
    },
    {
     "data": {
      "image/png": "[encoded data removed]",
      "text/plain": [
       "<matplotlib.figure.Figure at 0x1aae8048>"
      ]
     },
     "metadata": {},
     "output_type": "display_data"
    }
   ],
   "source": [
    "xgb.plot_importance(bst)"
   ]
  },
  {
   "cell_type": "code",
   "execution_count": null,
   "metadata": {
    "collapsed": true
   },
   "outputs": [],
   "source": []
  },
  {
   "cell_type": "code",
   "execution_count": 74,
   "metadata": {
    "collapsed": true
   },
   "outputs": [],
   "source": [
    "X_submit = df.loc[df['Set'] == 0]"
   ]
  },
  {
   "cell_type": "code",
   "execution_count": 75,
   "metadata": {
    "collapsed": true
   },
   "outputs": [],
   "source": [
    "X_submit_weight = X_submit['weight']\n",
    "del X_submit['weight']"
   ]
  },
  {
   "cell_type": "code",
   "execution_count": 76,
   "metadata": {
    "collapsed": true
   },
   "outputs": [],
   "source": [
    "features_x.remove('weight')"
   ]
  },
  {
   "cell_type": "code",
   "execution_count": 78,
   "metadata": {
    "collapsed": true
   },
   "outputs": [],
   "source": [
    "features_x.remove('date')"
   ]
  },
  {
   "cell_type": "code",
   "execution_count": 79,
   "metadata": {},
   "outputs": [],
   "source": [
    "dsubmit = xgb.DMatrix(X_submit[features_x])"
   ]
  },
  {
   "cell_type": "code",
   "execution_count": 80,
   "metadata": {
    "collapsed": true
   },
   "outputs": [],
   "source": [
    "ypred_bst = bst.predict(dsubmit)"
   ]
  },
  {
   "cell_type": "code",
   "execution_count": 81,
   "metadata": {
    "collapsed": true
   },
   "outputs": [],
   "source": [
    "df_ypred = X_submit['id'].reset_index()"
   ]
  },
  {
   "cell_type": "code",
   "execution_count": null,
   "metadata": {
    "collapsed": true
   },
   "outputs": [],
   "source": [
    "del df_ypred['index']\n",
    "df_ypred['id'] = df_ypred['id'].astype('int')\n",
    "\n",
    "df_ypred['unit_sales'] = (np.exp(ypred_bst) - 1) * 0.985\n",
    "df_ypred['unit_sales'] = df_ypred['unit_sales'].apply(lambda dt: dt if dt > 0 else 0)\n",
    "\n",
    "\n",
    "df_ypred.sort_values('id', inplace=True)\n",
    "df_ypred[['id', 'unit_sales']].to_csv('submit5.csv', index=False)"
   ]
  }
 ],
 "metadata": {
  "kernelspec": {
   "display_name": "Python 3",
   "language": "python",
   "name": "python3"
  },
  "language_info": {
   "codemirror_mode": {
    "name": "ipython",
    "version": 3
   },
   "file_extension": ".py",
   "mimetype": "text/x-python",
   "name": "python",
   "nbconvert_exporter": "python",
   "pygments_lexer": "ipython3",
   "version": "3.6.2"
  }
 },
 "nbformat": 4,
 "nbformat_minor": 2
}
