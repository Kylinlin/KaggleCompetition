{
 "cells": [
  {
   "cell_type": "code",
   "execution_count": 1,
   "metadata": {
    "collapsed": true
   },
   "outputs": [],
   "source": [
    "import pandas as pd\n",
    "import numpy as np\n",
    "import os"
   ]
  },
  {
   "cell_type": "code",
   "execution_count": 6,
   "metadata": {},
   "outputs": [
    {
     "data": {
      "text/plain": [
       "['ensemble/mod_0.512-1.csv',\n",
       " 'ensemble/mod_0.513.csv',\n",
       " 'ensemble/mod_0.512-2.csv',\n",
       " 'ensemble/mod_0.514.csv',\n",
       " 'ensemble/mod_0.515.csv',\n",
       " 'ensemble/mod_0.512-3.csv']"
      ]
     },
     "execution_count": 6,
     "metadata": {},
     "output_type": "execute_result"
    }
   ],
   "source": [
    "! rm -f ensemble/ensebmle*.csv\n",
    "filepath = 'ensemble'\n",
    "filelist = os.listdir(filepath)\n",
    "filelist = list(map(lambda u : 'ensemble/'+ u, filelist))\n",
    "filelist"
   ]
  },
  {
   "cell_type": "code",
   "execution_count": 7,
   "metadata": {},
   "outputs": [
    {
     "name": "stderr",
     "output_type": "stream",
     "text": [
      "/home/kylin/anaconda3/lib/python3.6/site-packages/numpy/lib/arraysetops.py:395: FutureWarning: elementwise comparison failed; returning scalar instead, but in the future will perform elementwise comparison\n",
      "  mask |= (ar1 == a)\n"
     ]
    }
   ],
   "source": [
    "col_list = ['sub{}'.format(i) for i in range(len(filelist))]\n",
    "outs = [pd.read_csv(f, index_col=0) for f in filelist]\n",
    "concat_df = pd.concat(outs, axis=1)\n",
    "concat_df.columns=col_list\n",
    "concat_df['unit_sales'] = concat_df.mean(axis=1)\n",
    "concat_df[['unit_sales']].to_csv('ensemble/ensebmle1.csv', float_format='%.5f')"
   ]
  },
  {
   "cell_type": "code",
   "execution_count": 8,
   "metadata": {},
   "outputs": [
    {
     "data": {
      "text/html": [
       "<div>\n",
       "<style>\n",
       "    .dataframe thead tr:only-child th {\n",
       "        text-align: right;\n",
       "    }\n",
       "\n",
       "    .dataframe thead th {\n",
       "        text-align: left;\n",
       "    }\n",
       "\n",
       "    .dataframe tbody tr th {\n",
       "        vertical-align: top;\n",
       "    }\n",
       "</style>\n",
       "<table border=\"1\" class=\"dataframe\">\n",
       "  <thead>\n",
       "    <tr style=\"text-align: right;\">\n",
       "      <th></th>\n",
       "      <th>sub0</th>\n",
       "      <th>sub1</th>\n",
       "      <th>sub2</th>\n",
       "      <th>sub3</th>\n",
       "      <th>sub4</th>\n",
       "      <th>sub5</th>\n",
       "      <th>unit_sales</th>\n",
       "    </tr>\n",
       "    <tr>\n",
       "      <th>id</th>\n",
       "      <th></th>\n",
       "      <th></th>\n",
       "      <th></th>\n",
       "      <th></th>\n",
       "      <th></th>\n",
       "      <th></th>\n",
       "      <th></th>\n",
       "    </tr>\n",
       "  </thead>\n",
       "  <tbody>\n",
       "    <tr>\n",
       "      <th>125497040</th>\n",
       "      <td>0.2347</td>\n",
       "      <td>0.2092</td>\n",
       "      <td>0.2241</td>\n",
       "      <td>0.1791</td>\n",
       "      <td>0.2040</td>\n",
       "      <td>0.2403</td>\n",
       "      <td>0.215233</td>\n",
       "    </tr>\n",
       "    <tr>\n",
       "      <th>125497041</th>\n",
       "      <td>0.3999</td>\n",
       "      <td>0.3367</td>\n",
       "      <td>0.3991</td>\n",
       "      <td>0.2963</td>\n",
       "      <td>0.3582</td>\n",
       "      <td>0.4131</td>\n",
       "      <td>0.367217</td>\n",
       "    </tr>\n",
       "    <tr>\n",
       "      <th>125497042</th>\n",
       "      <td>0.0000</td>\n",
       "      <td>0.0000</td>\n",
       "      <td>0.0000</td>\n",
       "      <td>0.0000</td>\n",
       "      <td>0.0000</td>\n",
       "      <td>0.0000</td>\n",
       "      <td>0.000000</td>\n",
       "    </tr>\n",
       "    <tr>\n",
       "      <th>125497043</th>\n",
       "      <td>1.2458</td>\n",
       "      <td>1.1830</td>\n",
       "      <td>1.3459</td>\n",
       "      <td>1.0321</td>\n",
       "      <td>1.2639</td>\n",
       "      <td>1.3293</td>\n",
       "      <td>1.233333</td>\n",
       "    </tr>\n",
       "    <tr>\n",
       "      <th>125497044</th>\n",
       "      <td>2.3567</td>\n",
       "      <td>2.1701</td>\n",
       "      <td>2.2683</td>\n",
       "      <td>1.9833</td>\n",
       "      <td>2.0300</td>\n",
       "      <td>2.3553</td>\n",
       "      <td>2.193950</td>\n",
       "    </tr>\n",
       "  </tbody>\n",
       "</table>\n",
       "</div>"
      ],
      "text/plain": [
       "             sub0    sub1    sub2    sub3    sub4    sub5  unit_sales\n",
       "id                                                                   \n",
       "125497040  0.2347  0.2092  0.2241  0.1791  0.2040  0.2403    0.215233\n",
       "125497041  0.3999  0.3367  0.3991  0.2963  0.3582  0.4131    0.367217\n",
       "125497042  0.0000  0.0000  0.0000  0.0000  0.0000  0.0000    0.000000\n",
       "125497043  1.2458  1.1830  1.3459  1.0321  1.2639  1.3293    1.233333\n",
       "125497044  2.3567  2.1701  2.2683  1.9833  2.0300  2.3553    2.193950"
      ]
     },
     "execution_count": 8,
     "metadata": {},
     "output_type": "execute_result"
    }
   ],
   "source": [
    "concat_df.head()"
   ]
  },
  {
   "cell_type": "code",
   "execution_count": 9,
   "metadata": {},
   "outputs": [
    {
     "data": {
      "text/html": [
       "<div>\n",
       "<style>\n",
       "    .dataframe thead tr:only-child th {\n",
       "        text-align: right;\n",
       "    }\n",
       "\n",
       "    .dataframe thead th {\n",
       "        text-align: left;\n",
       "    }\n",
       "\n",
       "    .dataframe tbody tr th {\n",
       "        vertical-align: top;\n",
       "    }\n",
       "</style>\n",
       "<table border=\"1\" class=\"dataframe\">\n",
       "  <thead>\n",
       "    <tr style=\"text-align: right;\">\n",
       "      <th></th>\n",
       "      <th>id</th>\n",
       "      <th>unit_sales</th>\n",
       "    </tr>\n",
       "  </thead>\n",
       "  <tbody>\n",
       "    <tr>\n",
       "      <th>0</th>\n",
       "      <td>125497040</td>\n",
       "      <td>0.21523</td>\n",
       "    </tr>\n",
       "    <tr>\n",
       "      <th>1</th>\n",
       "      <td>125497041</td>\n",
       "      <td>0.36722</td>\n",
       "    </tr>\n",
       "    <tr>\n",
       "      <th>2</th>\n",
       "      <td>125497042</td>\n",
       "      <td>0.00000</td>\n",
       "    </tr>\n",
       "    <tr>\n",
       "      <th>3</th>\n",
       "      <td>125497043</td>\n",
       "      <td>1.23333</td>\n",
       "    </tr>\n",
       "    <tr>\n",
       "      <th>4</th>\n",
       "      <td>125497044</td>\n",
       "      <td>2.19395</td>\n",
       "    </tr>\n",
       "  </tbody>\n",
       "</table>\n",
       "</div>"
      ],
      "text/plain": [
       "          id  unit_sales\n",
       "0  125497040     0.21523\n",
       "1  125497041     0.36722\n",
       "2  125497042     0.00000\n",
       "3  125497043     1.23333\n",
       "4  125497044     2.19395"
      ]
     },
     "execution_count": 9,
     "metadata": {},
     "output_type": "execute_result"
    }
   ],
   "source": [
    "t = pd.read_csv('ensemble/ensebmle1.csv')\n",
    "t.head()"
   ]
  },
  {
   "cell_type": "code",
   "execution_count": null,
   "metadata": {
    "collapsed": true
   },
   "outputs": [],
   "source": []
  }
 ],
 "metadata": {
  "kernelspec": {
   "display_name": "Python 3",
   "language": "python",
   "name": "python3"
  },
  "language_info": {
   "codemirror_mode": {
    "name": "ipython",
    "version": 3
   },
   "file_extension": ".py",
   "mimetype": "text/x-python",
   "name": "python",
   "nbconvert_exporter": "python",
   "pygments_lexer": "ipython3",
   "version": "3.6.1"
  }
 },
 "nbformat": 4,
 "nbformat_minor": 2
}
